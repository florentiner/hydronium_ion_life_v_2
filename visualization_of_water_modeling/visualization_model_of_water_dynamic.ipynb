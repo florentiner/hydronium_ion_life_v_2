{
 "cells": [
  {
   "cell_type": "code",
   "execution_count": 1,
   "id": "264375f0-37e5-41fa-a224-30f4b7c6311a",
   "metadata": {},
   "outputs": [
    {
     "name": "stderr",
     "output_type": "stream",
     "text": [
      "/usr/local/lib/python3.11/site-packages/MDAnalysis/topology/TPRParser.py:161: DeprecationWarning: 'xdrlib' is deprecated and slated for removal in Python 3.13\n",
      "  import xdrlib\n"
     ]
    },
    {
     "data": {
      "application/vnd.jupyter.widget-view+json": {
       "model_id": "44ba0980a7774a8ba7c25c89995d22ea",
       "version_major": 2,
       "version_minor": 0
      },
      "text/plain": []
     },
     "metadata": {},
     "output_type": "display_data"
    }
   ],
   "source": [
    "import MDAnalysis\n",
    "import numpy as np\n",
    "import nglview as nv\n",
    "from traitlets import observe\n",
    "import copy \n",
    "import sys\n",
    "import warnings\n",
    "warnings.filterwarnings('ignore')"
   ]
  },
  {
   "cell_type": "code",
   "execution_count": 2,
   "id": "d4fe2a03-4325-4ef1-8b60-3272e90e1c4f",
   "metadata": {},
   "outputs": [],
   "source": [
    "#cell of function that parse instructions from file\n",
    "\n",
    "def get_raw_instructions(file_of_instrictions):# function that get instructions information from file\n",
    "    with open(file_of_instrictions, encoding = 'utf-8') as f:\n",
    "        instr_arr = [el.split() for el in f.read().split(';')[:-1]]\n",
    "        atom_arr = [np.array(el[-1].split(','), dtype='int') - 1 for el in instr_arr]\n",
    "        res_instr = []\n",
    "        for i in range(len(instr_arr)):\n",
    "            res_instr.append(instr_arr[i][:-1] + [atom_arr[i].tolist()])\n",
    "    return res_instr\n",
    "\n",
    "\n",
    "def get_instructions(file_of_instrictions):# function that parce instructions information from file\n",
    "    res_instr = get_raw_instructions(file_of_instrictions)\n",
    "    n_jum = max([int(el[0]) for el in res_instr if el[0]!=-1])\n",
    "    save_now_atom = [[[-1, []]] for _ in range(n_jum + 1)]\n",
    "    array_of_instrictions = []\n",
    "    for group, frame, atom_array in res_instr:\n",
    "        group = int(group)\n",
    "        save_now_atom[group].append([int(frame), atom_array])\n",
    "        if len(save_now_atom[group]) >= 3:\n",
    "            array_of_instrictions.append(copy.deepcopy(save_now_atom[group]))\n",
    "            del save_now_atom[group][0]\n",
    "    for i in range(len(save_now_atom)):\n",
    "        array_of_instrictions.append(save_now_atom[i] + [[sys.maxsize, []]])\n",
    "    array_of_instrictions.sort(key=lambda x:int(x[1][0]))\n",
    "    return array_of_instrictions"
   ]
  },
  {
   "cell_type": "code",
   "execution_count": 3,
   "id": "af3ceb09-00bd-4959-82c3-6c4caf8b9017",
   "metadata": {},
   "outputs": [],
   "source": [
    "#cell of function that implement instruction on view\n",
    "\n",
    "def instr_ret(prew_frame, now_frame):# function that return index of instruction that need to be implement\n",
    "    last_i = 0\n",
    "    compare = lambda a,b: a!=b if prew_frame <= now_frame else True\n",
    "    for i, el in enumerate(frames):\n",
    "        if el > now_frame:\n",
    "            return last_i\n",
    "        elif compare(frames[last_i], frames[i]):\n",
    "            last_i = i\n",
    "    return last_i\n",
    "\n",
    "def visual_atoms(instruct):# function that implement instruction on view\n",
    "    global now_showing\n",
    "    if now_showing != []:\n",
    "        view.remove_distance()\n",
    "        view.remove_distance()\n",
    "        view.add_representation(repr_type='ball+stick', selection=now_showing)\n",
    "    now_showing = []\n",
    "    hide, show_now, show_futer = instruct\n",
    "    atoms = show_now[1]\n",
    "    [now_showing.append(el) for el in atoms]\n",
    "    O_now = atoms[0]\n",
    "    H_arr = atoms[1:]\n",
    "    view.add_representation(repr_type='ball+stick', selection=[O_now], color=0xfa0202)\n",
    "    view.add_representation(repr_type='ball+stick', selection=H_arr, color=0x2003fc)\n",
    "    if show_futer[0] != sys.maxsize:\n",
    "        atoms = show_futer[1]\n",
    "        O_futer = atoms[0]\n",
    "        H_arr = atoms[1:-1]\n",
    "        jump_H = atoms[-1]\n",
    "        view.add_representation(repr_type='ball+stick', selection=[O_futer], color=0x961212)\n",
    "        view.add_representation(repr_type='ball+stick', selection=H_arr, color=0x12085c)\n",
    "        view.add_representation(repr_type='ball+stick', selection=[jump_H], color=0x03a5fc)\n",
    "        [now_showing.append(el) for el in atoms]\n",
    "        sele_jump_H = '@' + str(jump_H)\n",
    "        sele_O_now = '@' + str(O_now)\n",
    "        sele_O_futer = '@' + str(O_futer)\n",
    "        view.add_distance(atom_pair=[[sele_O_now, sele_jump_H]], \\\n",
    "                          label_color=\"black\", label_size=1.0, color=\"green\")\n",
    "        view.add_distance(atom_pair=[[sele_O_futer, sele_jump_H]], \\\n",
    "                          label_color=\"black\", label_size=1.0, color=\"green\")\n",
    "        view.center(duration=0, selection=sele_jump_H)\n",
    "        view.control.zoom(-0.4)\n",
    "    else:\n",
    "        sele = '@'+str(O_now)\n",
    "        view.center(duration=0, selection=sele)\n",
    "        view.control.zoom(-0.4)"
   ]
  },
  {
   "cell_type": "code",
   "execution_count": 4,
   "id": "8e34e3d6-ef12-4bec-851d-e55b0857fe5b",
   "metadata": {},
   "outputs": [],
   "source": [
    "def on_frame_change(change): #observer function that change view if it is necessary\n",
    "    global view\n",
    "    global comand_frame\n",
    "    global direct\n",
    "    global prev_frame\n",
    "    global i_now\n",
    "    zoom_scale = -0.5\n",
    "    instrict_i = instr_ret(prev_frame, view.frame)\n",
    "    instrict = array_of_instrictions[instrict_i]\n",
    "    comand_frame = instrict[1][0]\n",
    "    now_direct = 1 if prev_frame <= view.frame else -1\n",
    "    i_now = [] if direct != now_direct else i_now\n",
    "    direct = now_direct\n",
    "    while (instrict[1][0] == comand_frame) and (instrict_i not in i_now):\n",
    "        i_now.append(instrict_i)\n",
    "        visual_atoms(instrict)\n",
    "        instrict_i += 1\n",
    "        if instrict_i < 0: instrict_i = 0; break;\n",
    "        if instrict_i > len(frames) - 1: instrict_i = len(frames) - 1; break;\n",
    "        instrict = array_of_instrictions[instrict_i]\n",
    "    prev_frame = view.frame"
   ]
  },
  {
   "cell_type": "code",
   "execution_count": 5,
   "id": "2d1c67a5-dcc1-43bb-b735-91e04a25c7e2",
   "metadata": {},
   "outputs": [
    {
     "name": "stdin",
     "output_type": "stream",
     "text": [
      "Pleas write trajectory file name (or press Enter to use default file): \n",
      "Pleas write instrictions file name (or press Enter to use default file): \n"
     ]
    }
   ],
   "source": [
    "#cell set file name\n",
    "traj_file_name = '' # you can write file name in code\n",
    "if traj_file_name == '': # or from keybord\n",
    "    traj_file_name = input(\"Pleas write trajectory file name (or press Enter to use default file):\")\n",
    "if traj_file_name == '':\n",
    "    traj_file_name = \"/Users/danilezov/Downloads/res_1/dump_s.dmp.LAMMPSDUMP\"\n",
    "instrictions_file_name = '' # you can write file name in code\n",
    "if instrictions_file_name == '': # or from keybord\n",
    "    instrictions_file_name = input(\"Pleas write instrictions file name (or press Enter to use default file):\")\n",
    "if instrictions_file_name == '':\n",
    "    instrictions_file_name = \"/Users/danilezov/Downloads/res_1/vis_mod.txt\""
   ]
  },
  {
   "cell_type": "code",
   "execution_count": 6,
   "id": "8633f64f-7193-46d8-aa75-8ff37b50803e",
   "metadata": {},
   "outputs": [],
   "source": [
    "#cell set global parameters\n",
    "\n",
    "array_of_instrictions = get_instructions(instrictions_file_name)\n",
    "i = 1\n",
    "prev_frame = 0\n",
    "i_now = []\n",
    "direct = 1\n",
    "now_showing = []\n",
    "frames = [int(el[1][0]) for el in array_of_instrictions]"
   ]
  },
  {
   "cell_type": "code",
   "execution_count": 7,
   "id": "2b630aab-ba93-47fd-85c8-491e514305f6",
   "metadata": {},
   "outputs": [
    {
     "data": {
      "application/vnd.jupyter.widget-view+json": {
       "model_id": "5bb69cb4286f4496b236331e668106ad",
       "version_major": 2,
       "version_minor": 0
      },
      "text/plain": [
       "NGLWidget(max_frame=139)"
      ]
     },
     "metadata": {},
     "output_type": "display_data"
    }
   ],
   "source": [
    "#make view from file\n",
    "u = MDAnalysis.Universe(traj_file_name)\n",
    "view = nv.show_mdanalysis(u, default = False)\n",
    "view.add_representation('ball+stick', selection='all')\n",
    "view.observe(on_frame_change, names=['frame'])\n",
    "view.center()\n",
    "view.control.zoom(0.15)\n",
    "view"
   ]
  },
  {
   "cell_type": "markdown",
   "id": "b769db79-a1be-45ac-b374-a9e6ba775e84",
   "metadata": {},
   "source": [
    "<h2>Legend:</h2>\n",
    "\n",
    "Curent hydronium:\n",
    "- ![#fa0202](https://via.placeholder.com/15/fa0202/000000?text=+) `Oxygen`\n",
    "- ![#2003fc](https://via.placeholder.com/15/2003fc/000000?text=+) `Hydrogen`\n",
    "- ![#03a5fc](https://via.placeholder.com/15/03a5fc/000000?text=+) `Hydrogen that will go to another H2O and make hydronium`\n",
    "\n",
    "Futer hydronium:\n",
    "- ![#961212](https://via.placeholder.com/15/961212/000000?text=+) `Oxygen`\n",
    "- ![#12085c](https://via.placeholder.com/15/12085c/000000?text=+) `Hydrogen`"
   ]
  }
 ],
 "metadata": {
  "kernelspec": {
   "display_name": "Python 3 (ipykernel)",
   "language": "python",
   "name": "python3"
  },
  "language_info": {
   "codemirror_mode": {
    "name": "ipython",
    "version": 3
   },
   "file_extension": ".py",
   "mimetype": "text/x-python",
   "name": "python",
   "nbconvert_exporter": "python",
   "pygments_lexer": "ipython3",
   "version": "3.11.4"
  }
 },
 "nbformat": 4,
 "nbformat_minor": 5
}
